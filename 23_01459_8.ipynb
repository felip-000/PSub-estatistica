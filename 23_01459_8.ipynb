{
  "nbformat": 4,
  "nbformat_minor": 0,
  "metadata": {
    "colab": {
      "provenance": []
    },
    "kernelspec": {
      "name": "python3",
      "display_name": "Python 3"
    },
    "language_info": {
      "name": "python"
    }
  },
  "cells": [
    {
      "cell_type": "markdown",
      "source": [
        "# **TTI109 - Estatística**\n",
        "# **Trabalho T2**\n",
        "# **01 de novembro de 2023**\n",
        "\n",
        "## Instruções:\n",
        "\n",
        "*   Salve esse *notebook* com o nome \"RA.ipynb\", em que RA é o número de registro acadêmico do aluno que enviará a atividade no ambiente OPEN LMS.\n",
        "*   Preencha corretamente os campos de identificação (nome completo e RA) e execute a célula de código que contém tais campos.\n",
        "*   É permitida a consulta ao material da disciplina (OPEN-LMS).\n",
        "*   É permitida a consulta ao GitHub pessoal.\n",
        "*   A atividade consta de 4 questões:\n",
        "    * Questão 01 - Valor 2,5 pontos (itens *a* até *e*).\n",
        "    * Questão 02 - Valor 2,5 pontos (itens *a* até *d*).\n",
        "    * Questão 03 - Valor 2,5 pontos (itens *a* até *d*).\n",
        "    * Questão 04 - Valor 2,5 pontos (itens *a* até *c*).\n",
        "*   Nas questões, grande parte do código já é fornecida. Preencha as lacunas `'Seu código aqui'` com sua solução.\n",
        "*   Quando pertinente, responda às questões dissertativas nos campos a elas destinados e execute a célula de código que contém esses campos."
      ],
      "metadata": {
        "id": "IRBr0kTAAh9M"
      }
    },
    {
      "cell_type": "code",
      "source": [
        "#@title Identificação\n",
        "Nome_1 = \"Felipe Costa Muniz\" #@param {type:\"string\"}\n",
        "RA_1 = \"23.01459-8\" #@param {type:\"string\"}\n"
      ],
      "metadata": {
        "id": "ynT8J3TMYnuq"
      },
      "execution_count": 53,
      "outputs": []
    },
    {
      "cell_type": "code",
      "source": [
        "Nome_2 = \"Lucas Kenzo Murakami Tada\" #@param {type:\"string\"}\n",
        "RA_2 = \"23.01221-8\" #@param {type:\"string\"}"
      ],
      "metadata": {
        "id": "NVNgyU9j8f_0"
      },
      "execution_count": 74,
      "outputs": []
    },
    {
      "cell_type": "code",
      "source": [
        "#@title Bibliotecas necessárias\n",
        "import pandas as pd\n",
        "import matplotlib.pyplot as plt\n",
        "from scipy import stats as st\n",
        "from scipy.stats import norm"
      ],
      "metadata": {
        "id": "AgHurY9X_KYh"
      },
      "execution_count": 54,
      "outputs": []
    },
    {
      "cell_type": "markdown",
      "source": [
        "# Questão 01 - Análise de uma distribuição normal (2,5 pontos)\n",
        "\n",
        "O tempo médio de sono (em horas) para um grupo de médicos residentes de um hospital pode ser aproximado por uma distribuição normal, como pode ser visto na figura a seguir. (Adaptado de: *National Institute of Occupational and Health, Japão.*).\n",
        "\n",
        "![image.png](data:image/png;base64,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)"
      ],
      "metadata": {
        "id": "uwp-MLmhAakz"
      }
    },
    {
      "cell_type": "markdown",
      "source": [
        "**a)** (0,5) Construa a distribuição normal dos tempos médios de sono, de acordo com o enunciado."
      ],
      "metadata": {
        "id": "1ygJt5g389aH"
      }
    },
    {
      "cell_type": "code",
      "source": [
        "# Carcaterização da população\n",
        "mu, sigma = 6.1, 1\n",
        "\n",
        "# Geração da distribuição normal das distãncias de frenagem\n",
        "tempo_sono = norm(loc=mu, scale=sigma)"
      ],
      "metadata": {
        "id": "hCPqjsfe9OLA"
      },
      "execution_count": 55,
      "outputs": []
    },
    {
      "cell_type": "markdown",
      "source": [
        "**b)** (0,5) Qual tempo de sono representa o 15º percentil?"
      ],
      "metadata": {
        "id": "BHox30Pk9Xg_"
      }
    },
    {
      "cell_type": "code",
      "source": [
        "tempo = tempo_sono.ppf(0.15)\n",
        "print(f'Tempo de sono do 15º percentil = {tempo:.2f} horas')"
      ],
      "metadata": {
        "id": "JJ5ukVzE9cx3",
        "colab": {
          "base_uri": "https://localhost:8080/"
        },
        "outputId": "3d36ffb7-cfb9-465e-ce8a-94dd8763dab4"
      },
      "execution_count": 56,
      "outputs": [
        {
          "output_type": "stream",
          "name": "stdout",
          "text": [
            "Tempo de sono do 15º percentil = 5.06 horas\n"
          ]
        }
      ]
    },
    {
      "cell_type": "markdown",
      "source": [
        "**c)** (0,5) Qual tempo de sono representa o terceiro quartil?"
      ],
      "metadata": {
        "id": "lEWwiAYb9nWt"
      }
    },
    {
      "cell_type": "code",
      "source": [
        "tempo = tempo_sono.ppf(0.75)\n",
        "print(f'Tempo de sono do terceiro quartil = {tempo:.2f} horas')"
      ],
      "metadata": {
        "id": "rzeVQnta9mwF",
        "colab": {
          "base_uri": "https://localhost:8080/"
        },
        "outputId": "582ab859-6235-4ae2-fd7e-c58580ffa20b"
      },
      "execution_count": 57,
      "outputs": [
        {
          "output_type": "stream",
          "name": "stdout",
          "text": [
            "Tempo de sono do terceiro quartil = 6.77 horas\n"
          ]
        }
      ]
    },
    {
      "cell_type": "markdown",
      "source": [
        "**d)** (0,5) Qual é o tempo de sono mais curto que ainda colocaria\n",
        "um residente entre os 5% com mais tempo de sono?"
      ],
      "metadata": {
        "id": "wr88jM7080Xd"
      }
    },
    {
      "cell_type": "code",
      "source": [
        "tempo = tempo_sono.ppf(0.95) # ou 1-0.05\n",
        "print(f'Menor tempo de sono entre os 5% com mais tempo de sono = {tempo:.2f} horas')"
      ],
      "metadata": {
        "id": "iPlG7O7R98jk",
        "colab": {
          "base_uri": "https://localhost:8080/"
        },
        "outputId": "cbe768f3-c7a8-41e7-fbff-a99bb58cb85c"
      },
      "execution_count": 58,
      "outputs": [
        {
          "output_type": "stream",
          "name": "stdout",
          "text": [
            "Menor tempo de sono entre os 5% com mais tempo de sono = 7.74 horas\n"
          ]
        }
      ]
    },
    {
      "cell_type": "markdown",
      "source": [
        "**e)** (0,5) Entre quais dois valores encontram-se os 50% dos\n",
        "tempos de sono centrais?"
      ],
      "metadata": {
        "id": "Cg03ThQl91Z6"
      }
    },
    {
      "cell_type": "code",
      "source": [
        "tempo1 = tempo_sono.ppf(0.25)\n",
        "tempo2 = tempo_sono.ppf(0.75)\n",
        "print(f'50% centrais dos tempos de sono entre {tempo1:.2f} e {tempo2:.2f} horas')"
      ],
      "metadata": {
        "id": "5VKEmoGPCXsA",
        "colab": {
          "base_uri": "https://localhost:8080/"
        },
        "outputId": "d75a8e13-1ff3-475e-d9f5-39effaecfb15"
      },
      "execution_count": 59,
      "outputs": [
        {
          "output_type": "stream",
          "name": "stdout",
          "text": [
            "50% centrais dos tempos de sono entre 5.43 e 6.77 horas\n"
          ]
        }
      ]
    },
    {
      "cell_type": "markdown",
      "source": [
        "# Questão 02 - Distribuição amostral das médias (2,5 pontos)\n",
        "\n",
        "Uma máquina está regulada para encher latas de tinta com um desvio padrão de 0,1 kg. Uma amostra aleatória de 40 latas de tinta é selecionada aleatoriamente, com média de 3,625 kg.\n",
        "\n",
        "**a)** (0,75) Construa a distribuição amostral dos valores médios das massas das latas de tinta."
      ],
      "metadata": {
        "id": "R_RQYThY8HIR"
      }
    },
    {
      "cell_type": "code",
      "execution_count": 60,
      "metadata": {
        "id": "AHEYhNIV7vig"
      },
      "outputs": [],
      "source": [
        "# Carcaterização da população\n",
        "mu, sigma = 3.625, 0.1\n",
        "\n",
        "# Geração da distribuição das médias amostrais\n",
        "amostras = 40\n",
        "mu_x, std_x = mu, sigma / amostras**0.5\n",
        "tintas = norm(mu_x, std_x)"
      ]
    },
    {
      "cell_type": "markdown",
      "source": [
        "\n",
        "**b)** (0,5) Qual é a probabilidade de que a máquina preencha uma lata de tinta com menos de 3,6 kg?"
      ],
      "metadata": {
        "id": "5Nl7egWE_kPw"
      }
    },
    {
      "cell_type": "code",
      "source": [
        "prob = tintas.cdf(3.6)\n",
        "print(f'P(Lata de tinta < 3,6) = {prob*100:.2f}%')"
      ],
      "metadata": {
        "id": "Fbs4HqE4_rwJ",
        "colab": {
          "base_uri": "https://localhost:8080/"
        },
        "outputId": "56803d0f-2271-4a9d-deef-13d1047b1442"
      },
      "execution_count": 61,
      "outputs": [
        {
          "output_type": "stream",
          "name": "stdout",
          "text": [
            "P(Lata de tinta < 3,6) = 5.69%\n"
          ]
        }
      ]
    },
    {
      "cell_type": "markdown",
      "source": [
        "\n",
        "**c)** (0,5) Qual é a probabilidade de que a máquina preencha uma lata de tinta com mais de 3,675 kg?"
      ],
      "metadata": {
        "id": "NEOADUge_0pB"
      }
    },
    {
      "cell_type": "code",
      "source": [
        "prob = tintas.sf(3.675)\n",
        "print(f'P(Lata de tinta > 3.675) = {prob*100:.2f}%')"
      ],
      "metadata": {
        "id": "_LoFLJU5_23B",
        "colab": {
          "base_uri": "https://localhost:8080/"
        },
        "outputId": "ad3cac40-a061-4c99-9542-2dbec341540e"
      },
      "execution_count": 62,
      "outputs": [
        {
          "output_type": "stream",
          "name": "stdout",
          "text": [
            "P(Lata de tinta > 3.675) = 0.08%\n"
          ]
        }
      ]
    },
    {
      "cell_type": "markdown",
      "source": [
        "\n",
        "**d)** (0,75) Qual é a probabilidade de que a máquina preencha uma lata de tinta com massa entre 3,55 e 3,65 kg?"
      ],
      "metadata": {
        "id": "hFRtUoQvABRi"
      }
    },
    {
      "cell_type": "code",
      "source": [
        "prob = tintas.cdf(3.65) - tintas.cdf(3.55)\n",
        "print(f'P(3,55 < Lata de tinta < 3,65) = {prob*100:.2f}%')"
      ],
      "metadata": {
        "id": "cNsRsVxCADEr",
        "colab": {
          "base_uri": "https://localhost:8080/"
        },
        "outputId": "9e36234b-ec19-4d8e-b599-85bafdc1ba6b"
      },
      "execution_count": 63,
      "outputs": [
        {
          "output_type": "stream",
          "name": "stdout",
          "text": [
            "P(3,55 < Lata de tinta < 3,65) = 94.31%\n"
          ]
        }
      ]
    },
    {
      "cell_type": "markdown",
      "source": [
        "# Questão 03 - Intervalo de Confiança para a Média Populacional (2,5 pontos)\n",
        "\n",
        "Um conselho de pesquisa quer estimar a duração média de tempo (em minutos) que um adulto americano gasta assistindo a vídeos no *smartphone* diariamente. Para determinar essa estuimativa, o conselho de pesquisa coleta uma amostra de 20 adultos e obtém os seguintes resultados:\n",
        "\n",
        "![image.png](data:image/png;base64,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)"
      ],
      "metadata": {
        "id": "pCzrEU5uFLEW"
      }
    },
    {
      "cell_type": "markdown",
      "source": [
        "A célula abaixo registra essas informações na variável `dados`."
      ],
      "metadata": {
        "id": "2DHwaz30BHSy"
      }
    },
    {
      "cell_type": "code",
      "source": [
        "# Conjunto de dados\n",
        "dados = pd.Series([24, 27, 26, 29, 33, 21, 18, 24, 23, 34,\n",
        "                   17, 15, 19, 23, 25, 29, 36, 19, 18, 22])"
      ],
      "metadata": {
        "id": "QkHnwcGIBU4J"
      },
      "execution_count": 64,
      "outputs": []
    },
    {
      "cell_type": "markdown",
      "source": [
        "**a)** (0,5) Suponha que o desvio padrão populacional $\\sigma$ é de 4,3 minutos. Nessa condição, preencha o código da célula abaixo com as informações pertinentes ao problema."
      ],
      "metadata": {
        "id": "Oym41rsFBeek"
      }
    },
    {
      "cell_type": "code",
      "source": [
        "# Estimativa pontual\n",
        "x_barra = dados.mean()\n",
        "\n",
        "# Desvio padrão populacional\n",
        "sigma = 4.3\n",
        "\n",
        "# Amostras\n",
        "amostras = len(dados)"
      ],
      "metadata": {
        "id": "6OttC1XdBdvc"
      },
      "execution_count": 65,
      "outputs": []
    },
    {
      "cell_type": "markdown",
      "source": [
        "**b)** (0,75) Construa um intervalo de 95% de confiança para a média populacional $\\mu$."
      ],
      "metadata": {
        "id": "j9SvpgTkAptP"
      }
    },
    {
      "cell_type": "code",
      "source": [
        "# Nível de confiança\n",
        "confianca = 0.95\n",
        "\n",
        "# Intervalo de confiança\n",
        "mu_x, std_x = x_barra, sigma / amostras**0.5\n",
        "IC1 = st.norm.interval(confidence=confianca, loc=x_barra, scale=std_x)\n",
        "print(f'Sigma conhecido --> IC para média = ({IC1[0]:.2f}, {IC1[1]:.2f}) minutos')"
      ],
      "metadata": {
        "id": "oNv3eYdfFReP",
        "colab": {
          "base_uri": "https://localhost:8080/"
        },
        "outputId": "4a53114c-725e-42c2-ec5f-5ef6fb67dfbd"
      },
      "execution_count": 66,
      "outputs": [
        {
          "output_type": "stream",
          "name": "stdout",
          "text": [
            "Sigma conhecido --> IC para média = (22.22, 25.98) minutos\n"
          ]
        }
      ]
    },
    {
      "cell_type": "markdown",
      "source": [
        "**c)** (0,75) Refaça o item anterior, admitindo que o desvio populacional $\\sigma$ não é conhecido."
      ],
      "metadata": {
        "id": "Uy_QA3d4CSTD"
      }
    },
    {
      "cell_type": "code",
      "source": [
        "std_amostral = dados.std(ddof=1)/amostras**0.5\n",
        "erro_padrao = st.sem(dados)\n",
        "IC2 = st.t.interval(confidence=confianca, df = amostras-1, loc=x_barra, scale=std_amostral)\n",
        "print(f'Sigma desconhecido --> IC para média = ({IC2[0]:.2f}, {IC2[1]:.2f}) minutos')"
      ],
      "metadata": {
        "id": "RJMDa4LOCQdP",
        "colab": {
          "base_uri": "https://localhost:8080/"
        },
        "outputId": "b5701c1f-9340-433f-d42b-92978c12b094"
      },
      "execution_count": 67,
      "outputs": [
        {
          "output_type": "stream",
          "name": "stdout",
          "text": [
            "Sigma desconhecido --> IC para média = (21.35, 26.85) minutos\n"
          ]
        }
      ]
    },
    {
      "cell_type": "markdown",
      "source": [
        "**d)** (0,5) Execute a célula a seguir e explique a diferença entre os comprimentos dos intervalos de confiança dos itens anteriores."
      ],
      "metadata": {
        "id": "r4_X09e5RfiH"
      }
    },
    {
      "cell_type": "code",
      "source": [
        "# Representação gráfica\n",
        "plt.figure(figsize=(8,2))\n",
        "plt.hlines(0.5, IC1[0], IC1[1], colors='b')\n",
        "plt.hlines(1.0, IC2[0], IC2[1], colors='r')\n",
        "ax = plt.gca()\n",
        "ax.get_yaxis().set_visible(False)\n",
        "plt.ylim(0, 1.75)\n",
        "plt.vlines(x_barra, 0, 1.75, colors='k', linestyles='dashed')\n",
        "plt.title('Intervalos de Confiança 95%')\n",
        "plt.xlabel('Minutos')\n",
        "plt.legend(['sigma conhecido', 'sigma desconhecido'], loc='upper left')\n",
        "plt.show()"
      ],
      "metadata": {
        "id": "BHASHhdYRgGf",
        "colab": {
          "base_uri": "https://localhost:8080/",
          "height": 256
        },
        "outputId": "04e1ee61-15bd-4ed5-f812-a8ff6def1084"
      },
      "execution_count": 68,
      "outputs": [
        {
          "output_type": "display_data",
          "data": {
            "text/plain": [
              "<Figure size 800x200 with 1 Axes>"
            ],
            "image/png": "[encoded data removed]"
          },
          "metadata": {}
        }
      ]
    },
    {
      "cell_type": "code",
      "source": [
        "#@title Resposta\n",
        "Resp_Q3_d = 'E visivel que quando o desvio padrao e conhecido o comprimento de seu intervalo de confianca e bem menor' #@param {type:\"string\"}\n",
        "display(Resp_Q3_d)"
      ],
      "metadata": {
        "id": "_doa2Ag6SijK",
        "colab": {
          "base_uri": "https://localhost:8080/",
          "height": 36
        },
        "outputId": "08928219-592f-477f-bd05-c275707a04b1"
      },
      "execution_count": 69,
      "outputs": [
        {
          "output_type": "display_data",
          "data": {
            "text/plain": [
              "'E visivel que quando o desvio padrao e conhecido o comprimento de seu intervalo de confianca e bem menor'"
            ],
            "application/vnd.google.colaboratory.intrinsic+json": {
              "type": "string"
            }
          },
          "metadata": {}
        }
      ]
    },
    {
      "cell_type": "markdown",
      "source": [
        "# Questão 04 - Intervalo de Confiança para a Variância e Desvio Padrão (2,5 pontos)\n",
        "\n",
        "Os volumes (em onças fluidas) do conteúdo de 15 frascos de xarope para tosse selecionados aleatoriamente estão listados abaixo.\n",
        "\n",
        "![image.png](data:image/png;base64,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)"
      ],
      "metadata": {
        "id": "2nP-95gxOpZw"
      }
    },
    {
      "cell_type": "code",
      "source": [
        "# Conjunto de dados\n",
        "volumes = pd.Series([4.211, 4.246, 4.269, 4.241, 4.260,\n",
        "                     4.293, 4.189, 4.248, 4.220, 4.239,\n",
        "                     4.253, 4.209, 4.300, 4.256, 4.290])"
      ],
      "metadata": {
        "id": "IBvF1SxJ0b2F"
      },
      "execution_count": 70,
      "outputs": []
    },
    {
      "cell_type": "markdown",
      "source": [
        "**a)** (1,0) Complete a célula a seguir com as características da distribuição das capacidades de reserva e a correspondente distribuição chi-quadrado."
      ],
      "metadata": {
        "id": "EvGiO_L70ua4"
      }
    },
    {
      "cell_type": "code",
      "source": [
        "# Caracterização da distribuição\n",
        "amostras = len(volumes)\n",
        "s_amostral = volumes.std(ddof=1)\n",
        "\n",
        "# Distribuição chi-quadrado\n",
        "distchi2 = st.chi2(df=amostras-1)"
      ],
      "metadata": {
        "id": "UCzsMfPE0u8H"
      },
      "execution_count": 71,
      "outputs": []
    },
    {
      "cell_type": "markdown",
      "source": [
        "**b)** (1,0) Use um nível de confiança de 90% e construa um intervalo de confiança para a variância populacional."
      ],
      "metadata": {
        "id": "mkyie9dZ0fcU"
      }
    },
    {
      "cell_type": "code",
      "source": [
        "# Nível de confiança\n",
        "confianca = 0.9\n",
        "\n",
        "# Determinação dos valores críticos\n",
        "x2L = distchi2.ppf((1-confianca)/2)\n",
        "x2R = distchi2.ppf((1+confianca)/2)\n",
        "\n",
        "# Extremos do IC para variância\n",
        "inf_var = (amostras-1)*s_amostral**2/x2R\n",
        "sup_var = (amostras-1)*s_amostral**2/x2L\n",
        "\n",
        "# Exibição do resultado\n",
        "print(f'IC para a variância = ({inf_var:.5f}, {sup_var:.6f}) onças fluidas^2')"
      ],
      "metadata": {
        "id": "7AyqBrdBVHI4",
        "colab": {
          "base_uri": "https://localhost:8080/"
        },
        "outputId": "7feeb539-b6c9-4f2a-fb60-e79fb4d80892"
      },
      "execution_count": 72,
      "outputs": [
        {
          "output_type": "stream",
          "name": "stdout",
          "text": [
            "IC para a variância = (0.00061, 0.002200) onças fluidas^2\n"
          ]
        }
      ]
    },
    {
      "cell_type": "markdown",
      "source": [
        "**c)** (0,5) Use um nível de confiança de 95% e construa um intervalo de confiança para a desvio padrão populacional."
      ],
      "metadata": {
        "id": "rhorggLJ1M0B"
      }
    },
    {
      "cell_type": "code",
      "source": [
        "# Extremos do IC para o desvio padrão\n",
        "inf_std = inf_var**0.5\n",
        "sup_std = sup_var**0.5\n",
        "\n",
        "# Exibição do resultado\n",
        "print(f'IC para o desvio padrão = ({inf_std:.4f}, {sup_std:.4f}) onças fluidas')"
      ],
      "metadata": {
        "id": "t0DPQQH6-FqY",
        "colab": {
          "base_uri": "https://localhost:8080/"
        },
        "outputId": "12530bdb-c2ea-48b6-8882-05d293ecde8d"
      },
      "execution_count": 73,
      "outputs": [
        {
          "output_type": "stream",
          "name": "stdout",
          "text": [
            "IC para o desvio padrão = (0.0247, 0.0469) onças fluidas\n"
          ]
        }
      ]
    }
  ]
}